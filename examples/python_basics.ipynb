{
 "cells": [
  {
   "cell_type": "markdown",
   "id": "bd48d2c5-c58a-4fc5-a249-bb0b9748b418",
   "metadata": {},
   "source": [
    "# Python Basics #"
   ]
  },
  {
   "cell_type": "markdown",
   "id": "11c795af-60f2-496e-82ca-a1c471f2acad",
   "metadata": {},
   "source": [
    "Using Python as a calculator"
   ]
  },
  {
   "cell_type": "code",
   "execution_count": 19,
   "id": "7c21304b-6353-464d-b402-395d18b0a671",
   "metadata": {
    "execution": {
     "iopub.execute_input": "2021-09-01T09:25:13.603369Z",
     "iopub.status.busy": "2021-09-01T09:25:13.602828Z",
     "iopub.status.idle": "2021-09-01T09:25:13.609252Z",
     "shell.execute_reply": "2021-09-01T09:25:13.608538Z",
     "shell.execute_reply.started": "2021-09-01T09:25:13.603331Z"
    }
   },
   "outputs": [
    {
     "data": {
      "text/plain": [
       "23"
      ]
     },
     "execution_count": 19,
     "metadata": {},
     "output_type": "execute_result"
    }
   ],
   "source": [
    "3 + 5 * 4"
   ]
  },
  {
   "cell_type": "markdown",
   "id": "54fe8ec2-0599-4c00-9b62-3d35c8bd42ab",
   "metadata": {},
   "source": [
    "## Variable assignment\n",
    "\n",
    "Assign a label (variable name) to a value/variable"
   ]
  },
  {
   "cell_type": "code",
   "execution_count": 75,
   "id": "d9281b35-cc14-4b0c-b59f-918a728af6a5",
   "metadata": {
    "execution": {
     "iopub.execute_input": "2021-09-01T11:04:05.928248Z",
     "iopub.status.busy": "2021-09-01T11:04:05.927605Z",
     "iopub.status.idle": "2021-09-01T11:04:05.933887Z",
     "shell.execute_reply": "2021-09-01T11:04:05.932633Z",
     "shell.execute_reply.started": "2021-09-01T11:04:05.928198Z"
    },
    "tags": []
   },
   "outputs": [],
   "source": [
    "weight_kg = 60"
   ]
  },
  {
   "cell_type": "markdown",
   "id": "fb1cb952-5195-4299-9772-2cdf57f4b45a",
   "metadata": {},
   "source": [
    "## Simple data type"
   ]
  },
  {
   "cell_type": "code",
   "execution_count": 76,
   "id": "750fcb9e-d4a5-4f9d-9c94-f6391b84acd7",
   "metadata": {
    "execution": {
     "iopub.execute_input": "2021-09-01T11:04:09.374394Z",
     "iopub.status.busy": "2021-09-01T11:04:09.373907Z",
     "iopub.status.idle": "2021-09-01T11:04:09.380504Z",
     "shell.execute_reply": "2021-09-01T11:04:09.379278Z",
     "shell.execute_reply.started": "2021-09-01T11:04:09.374345Z"
    },
    "tags": []
   },
   "outputs": [],
   "source": [
    "weight_kg = 60.3"
   ]
  },
  {
   "cell_type": "code",
   "execution_count": 77,
   "id": "91e401fc-3d68-4051-8777-52eafa196154",
   "metadata": {
    "execution": {
     "iopub.execute_input": "2021-09-01T11:04:13.319634Z",
     "iopub.status.busy": "2021-09-01T11:04:13.319016Z",
     "iopub.status.idle": "2021-09-01T11:04:13.324828Z",
     "shell.execute_reply": "2021-09-01T11:04:13.324048Z",
     "shell.execute_reply.started": "2021-09-01T11:04:13.319598Z"
    },
    "tags": []
   },
   "outputs": [
    {
     "data": {
      "text/plain": [
       "float"
      ]
     },
     "execution_count": 77,
     "metadata": {},
     "output_type": "execute_result"
    }
   ],
   "source": [
    "type(weight_kg)"
   ]
  },
  {
   "cell_type": "code",
   "execution_count": 23,
   "id": "2468b327-c9c4-43dd-a001-baabd9f675a1",
   "metadata": {
    "execution": {
     "iopub.execute_input": "2021-09-01T09:33:50.601358Z",
     "iopub.status.busy": "2021-09-01T09:33:50.600866Z",
     "iopub.status.idle": "2021-09-01T09:33:50.607417Z",
     "shell.execute_reply": "2021-09-01T09:33:50.606353Z",
     "shell.execute_reply.started": "2021-09-01T09:33:50.601308Z"
    }
   },
   "outputs": [],
   "source": [
    "weight_kg = 60"
   ]
  },
  {
   "cell_type": "code",
   "execution_count": 24,
   "id": "684733a2-ff8e-4c7e-8386-0a67c7c8c80b",
   "metadata": {
    "execution": {
     "iopub.execute_input": "2021-09-01T09:34:42.306393Z",
     "iopub.status.busy": "2021-09-01T09:34:42.305848Z",
     "iopub.status.idle": "2021-09-01T09:34:42.314833Z",
     "shell.execute_reply": "2021-09-01T09:34:42.313935Z",
     "shell.execute_reply.started": "2021-09-01T09:34:42.306339Z"
    }
   },
   "outputs": [
    {
     "data": {
      "text/plain": [
       "int"
      ]
     },
     "execution_count": 24,
     "metadata": {},
     "output_type": "execute_result"
    }
   ],
   "source": [
    "type(weight_kg)"
   ]
  },
  {
   "cell_type": "code",
   "execution_count": 25,
   "id": "aded342d-dfbb-4164-a9bd-4eea283bd15d",
   "metadata": {
    "execution": {
     "iopub.execute_input": "2021-09-01T09:35:36.874539Z",
     "iopub.status.busy": "2021-09-01T09:35:36.874021Z",
     "iopub.status.idle": "2021-09-01T09:35:36.880489Z",
     "shell.execute_reply": "2021-09-01T09:35:36.879434Z",
     "shell.execute_reply.started": "2021-09-01T09:35:36.874475Z"
    }
   },
   "outputs": [],
   "source": [
    "a_string = 'hello spock'"
   ]
  },
  {
   "cell_type": "code",
   "execution_count": 26,
   "id": "d69f9469-b58e-4d02-81a0-f32f5f9f2bf9",
   "metadata": {
    "execution": {
     "iopub.execute_input": "2021-09-01T09:35:48.815852Z",
     "iopub.status.busy": "2021-09-01T09:35:48.815175Z",
     "iopub.status.idle": "2021-09-01T09:35:48.824072Z",
     "shell.execute_reply": "2021-09-01T09:35:48.822987Z",
     "shell.execute_reply.started": "2021-09-01T09:35:48.815780Z"
    }
   },
   "outputs": [
    {
     "data": {
      "text/plain": [
       "'hello spock'"
      ]
     },
     "execution_count": 26,
     "metadata": {},
     "output_type": "execute_result"
    }
   ],
   "source": [
    "a_string"
   ]
  },
  {
   "cell_type": "code",
   "execution_count": 27,
   "id": "a86b5dd3-d500-4d8d-9b68-fd80f8738195",
   "metadata": {
    "execution": {
     "iopub.execute_input": "2021-09-01T09:36:06.986087Z",
     "iopub.status.busy": "2021-09-01T09:36:06.985562Z",
     "iopub.status.idle": "2021-09-01T09:36:06.994412Z",
     "shell.execute_reply": "2021-09-01T09:36:06.993257Z",
     "shell.execute_reply.started": "2021-09-01T09:36:06.986034Z"
    }
   },
   "outputs": [
    {
     "data": {
      "text/plain": [
       "str"
      ]
     },
     "execution_count": 27,
     "metadata": {},
     "output_type": "execute_result"
    }
   ],
   "source": [
    "type(a_string)"
   ]
  },
  {
   "cell_type": "code",
   "execution_count": 28,
   "id": "21765b06-6bd8-446c-9c5b-e4ec9c44f74b",
   "metadata": {
    "execution": {
     "iopub.execute_input": "2021-09-01T09:36:50.874652Z",
     "iopub.status.busy": "2021-09-01T09:36:50.874162Z",
     "iopub.status.idle": "2021-09-01T09:36:50.880363Z",
     "shell.execute_reply": "2021-09-01T09:36:50.879732Z",
     "shell.execute_reply.started": "2021-09-01T09:36:50.874616Z"
    },
    "tags": []
   },
   "outputs": [
    {
     "data": {
      "text/plain": [
       "'hello spock'"
      ]
     },
     "execution_count": 28,
     "metadata": {},
     "output_type": "execute_result"
    }
   ],
   "source": [
    "a_string"
   ]
  },
  {
   "cell_type": "code",
   "execution_count": 29,
   "id": "2b6706f8-82e9-43cb-bfae-0d9bc42e0d8c",
   "metadata": {
    "execution": {
     "iopub.execute_input": "2021-09-01T09:44:01.689265Z",
     "iopub.status.busy": "2021-09-01T09:44:01.688742Z",
     "iopub.status.idle": "2021-09-01T09:44:01.694915Z",
     "shell.execute_reply": "2021-09-01T09:44:01.693854Z",
     "shell.execute_reply.started": "2021-09-01T09:44:01.689214Z"
    }
   },
   "outputs": [],
   "source": [
    "patient_id = '001'"
   ]
  },
  {
   "cell_type": "code",
   "execution_count": 30,
   "id": "8f136859-6809-4d06-9070-e4e1f3944fe8",
   "metadata": {
    "execution": {
     "iopub.execute_input": "2021-09-01T09:44:11.522757Z",
     "iopub.status.busy": "2021-09-01T09:44:11.522102Z",
     "iopub.status.idle": "2021-09-01T09:44:11.530881Z",
     "shell.execute_reply": "2021-09-01T09:44:11.530035Z",
     "shell.execute_reply.started": "2021-09-01T09:44:11.522704Z"
    }
   },
   "outputs": [
    {
     "data": {
      "text/plain": [
       "str"
      ]
     },
     "execution_count": 30,
     "metadata": {},
     "output_type": "execute_result"
    }
   ],
   "source": [
    "type(patient_id)"
   ]
  },
  {
   "cell_type": "code",
   "execution_count": 31,
   "id": "ecafdc20-bc4b-41f4-a855-b27d6c15f0fb",
   "metadata": {
    "execution": {
     "iopub.execute_input": "2021-09-01T09:45:08.020452Z",
     "iopub.status.busy": "2021-09-01T09:45:08.019933Z",
     "iopub.status.idle": "2021-09-01T09:45:08.026499Z",
     "shell.execute_reply": "2021-09-01T09:45:08.025320Z",
     "shell.execute_reply.started": "2021-09-01T09:45:08.020400Z"
    },
    "tags": []
   },
   "outputs": [],
   "source": [
    "patient_id = \"001\""
   ]
  },
  {
   "cell_type": "markdown",
   "id": "894b079b-e4be-42da-98a0-4ea93be21dce",
   "metadata": {},
   "source": [
    "## Variable manipulation ##\n",
    "\n",
    "Different variable type (fx. `str` and `float`) respond *differently* to **operators** such as '+' and '*'"
   ]
  },
  {
   "cell_type": "code",
   "execution_count": 35,
   "id": "2179559b-676e-40ac-ae7a-5fb1bb0e63d0",
   "metadata": {
    "execution": {
     "iopub.execute_input": "2021-09-01T09:48:22.711394Z",
     "iopub.status.busy": "2021-09-01T09:48:22.711017Z",
     "iopub.status.idle": "2021-09-01T09:48:22.715825Z",
     "shell.execute_reply": "2021-09-01T09:48:22.715330Z",
     "shell.execute_reply.started": "2021-09-01T09:48:22.711366Z"
    },
    "tags": []
   },
   "outputs": [
    {
     "data": {
      "text/plain": [
       "132.0"
      ]
     },
     "execution_count": 35,
     "metadata": {},
     "output_type": "execute_result"
    }
   ],
   "source": [
    "weight_lb = weight_kg * 2.2\n",
    "weight_lb"
   ]
  },
  {
   "cell_type": "code",
   "execution_count": 36,
   "id": "57bc37bf-bea3-4e29-81b5-57e6e98b4c4b",
   "metadata": {
    "execution": {
     "iopub.execute_input": "2021-09-01T09:49:44.426238Z",
     "iopub.status.busy": "2021-09-01T09:49:44.425563Z",
     "iopub.status.idle": "2021-09-01T09:49:44.435812Z",
     "shell.execute_reply": "2021-09-01T09:49:44.434329Z",
     "shell.execute_reply.started": "2021-09-01T09:49:44.426183Z"
    },
    "tags": []
   },
   "outputs": [
    {
     "data": {
      "text/plain": [
       "'001'"
      ]
     },
     "execution_count": 36,
     "metadata": {},
     "output_type": "execute_result"
    }
   ],
   "source": [
    "patient_id"
   ]
  },
  {
   "cell_type": "code",
   "execution_count": 66,
   "id": "08fae446-e54a-4408-95b9-cd7783589f9f",
   "metadata": {
    "execution": {
     "iopub.execute_input": "2021-09-01T09:53:00.515139Z",
     "iopub.status.busy": "2021-09-01T09:53:00.514583Z",
     "iopub.status.idle": "2021-09-01T09:53:00.522429Z",
     "shell.execute_reply": "2021-09-01T09:53:00.521563Z",
     "shell.execute_reply.started": "2021-09-01T09:53:00.515092Z"
    },
    "tags": []
   },
   "outputs": [
    {
     "data": {
      "text/plain": [
       "'inflam_001'"
      ]
     },
     "execution_count": 66,
     "metadata": {},
     "output_type": "execute_result"
    }
   ],
   "source": [
    "patient_id = '001'\n",
    "patient_id = 'inflam_' + patient_id\n",
    "patient_id"
   ]
  },
  {
   "cell_type": "markdown",
   "id": "0fbc60e9-4cad-4d30-85a8-e716b28eeb72",
   "metadata": {},
   "source": [
    "## Built-in Python function ##"
   ]
  },
  {
   "cell_type": "code",
   "execution_count": 70,
   "id": "8fce7b2e-1d84-40f2-8abc-bbd67d64edba",
   "metadata": {
    "execution": {
     "iopub.execute_input": "2021-09-01T09:57:07.068402Z",
     "iopub.status.busy": "2021-09-01T09:57:07.067690Z",
     "iopub.status.idle": "2021-09-01T09:57:07.074368Z",
     "shell.execute_reply": "2021-09-01T09:57:07.073333Z",
     "shell.execute_reply.started": "2021-09-01T09:57:07.068350Z"
    },
    "tags": []
   },
   "outputs": [
    {
     "name": "stdout",
     "output_type": "stream",
     "text": [
      "132.0\n",
      "60\n"
     ]
    }
   ],
   "source": [
    "print(weight_lb)\n",
    "print(weight_kg)"
   ]
  },
  {
   "cell_type": "code",
   "execution_count": 72,
   "id": "639e18b4-8dfc-4213-84d9-1baa7f8816ad",
   "metadata": {
    "execution": {
     "iopub.execute_input": "2021-09-01T10:01:03.992386Z",
     "iopub.status.busy": "2021-09-01T10:01:03.991961Z",
     "iopub.status.idle": "2021-09-01T10:01:03.996818Z",
     "shell.execute_reply": "2021-09-01T10:01:03.996098Z",
     "shell.execute_reply.started": "2021-09-01T10:01:03.992350Z"
    },
    "tags": []
   },
   "outputs": [
    {
     "name": "stdout",
     "output_type": "stream",
     "text": [
      "inflam_001\n"
     ]
    }
   ],
   "source": [
    "print(patient_id)"
   ]
  },
  {
   "cell_type": "code",
   "execution_count": 78,
   "id": "834f6cc0-62ff-47ee-b8df-4ade58c2f021",
   "metadata": {
    "execution": {
     "iopub.execute_input": "2021-09-01T11:05:41.837197Z",
     "iopub.status.busy": "2021-09-01T11:05:41.836610Z",
     "iopub.status.idle": "2021-09-01T11:05:41.844118Z",
     "shell.execute_reply": "2021-09-01T11:05:41.842498Z",
     "shell.execute_reply.started": "2021-09-01T11:05:41.837144Z"
    },
    "tags": []
   },
   "outputs": [
    {
     "name": "stdout",
     "output_type": "stream",
     "text": [
      "<class 'str'>\n"
     ]
    }
   ],
   "source": [
    "print(type(patient_id))"
   ]
  },
  {
   "cell_type": "code",
   "execution_count": 97,
   "id": "b1f3a98a-220a-438b-bb66-1f1a070a3c0f",
   "metadata": {
    "execution": {
     "iopub.execute_input": "2021-09-01T11:24:01.197828Z",
     "iopub.status.busy": "2021-09-01T11:24:01.197211Z",
     "iopub.status.idle": "2021-09-01T11:24:01.205361Z",
     "shell.execute_reply": "2021-09-01T11:24:01.204077Z",
     "shell.execute_reply.started": "2021-09-01T11:24:01.197751Z"
    },
    "tags": []
   },
   "outputs": [
    {
     "name": "stdout",
     "output_type": "stream",
     "text": [
      "inflam_001 variable is a <class 'str'> and the patients weight in kg is 60.3\n"
     ]
    }
   ],
   "source": [
    "print(patient_id +  ' variable ' + 'is a ' + str(type(patient_id)) + ' and the patients weight in kg is ' + str(weight_kg))"
   ]
  },
  {
   "cell_type": "markdown",
   "id": "c2a45aad-19f2-4ab9-bc78-412266ac24d7",
   "metadata": {},
   "source": [
    "## Excersises"
   ]
  },
  {
   "cell_type": "code",
   "execution_count": 105,
   "id": "6a035c5c-148b-4d22-8e25-4baa8ec979ac",
   "metadata": {
    "execution": {
     "iopub.execute_input": "2021-09-01T11:28:24.022596Z",
     "iopub.status.busy": "2021-09-01T11:28:24.022118Z",
     "iopub.status.idle": "2021-09-01T11:28:24.029415Z",
     "shell.execute_reply": "2021-09-01T11:28:24.028098Z",
     "shell.execute_reply.started": "2021-09-01T11:28:24.022548Z"
    },
    "tags": []
   },
   "outputs": [],
   "source": [
    "mass = 47.5\n",
    "age = 122\n",
    "mass = mass * 2.0\n",
    "age = age - 20"
   ]
  },
  {
   "cell_type": "code",
   "execution_count": 106,
   "id": "2b27fd17-ccd2-449b-9d08-a60630011763",
   "metadata": {
    "execution": {
     "iopub.execute_input": "2021-09-01T11:28:24.665347Z",
     "iopub.status.busy": "2021-09-01T11:28:24.664714Z",
     "iopub.status.idle": "2021-09-01T11:28:24.673158Z",
     "shell.execute_reply": "2021-09-01T11:28:24.671564Z",
     "shell.execute_reply.started": "2021-09-01T11:28:24.665293Z"
    },
    "tags": []
   },
   "outputs": [
    {
     "name": "stdout",
     "output_type": "stream",
     "text": [
      "95.0\n",
      "102\n"
     ]
    }
   ],
   "source": [
    "print(mass)\n",
    "print(age)"
   ]
  },
  {
   "cell_type": "code",
   "execution_count": 110,
   "id": "72f3dab4-b380-4e12-9c4e-e414e358e7c3",
   "metadata": {
    "execution": {
     "iopub.execute_input": "2021-09-01T11:30:31.765862Z",
     "iopub.status.busy": "2021-09-01T11:30:31.765375Z",
     "iopub.status.idle": "2021-09-01T11:30:31.772317Z",
     "shell.execute_reply": "2021-09-01T11:30:31.771127Z",
     "shell.execute_reply.started": "2021-09-01T11:30:31.765810Z"
    },
    "tags": []
   },
   "outputs": [],
   "source": [
    "first, second = 'Grace', 'Hopper'\n",
    "third, fourth = second, first"
   ]
  },
  {
   "cell_type": "code",
   "execution_count": 111,
   "id": "114cc1fc-dfe8-4083-ad55-aa1b33baad5f",
   "metadata": {
    "execution": {
     "iopub.execute_input": "2021-09-01T11:30:54.323316Z",
     "iopub.status.busy": "2021-09-01T11:30:54.322844Z",
     "iopub.status.idle": "2021-09-01T11:30:54.330240Z",
     "shell.execute_reply": "2021-09-01T11:30:54.329241Z",
     "shell.execute_reply.started": "2021-09-01T11:30:54.323266Z"
    },
    "tags": []
   },
   "outputs": [
    {
     "name": "stdout",
     "output_type": "stream",
     "text": [
      "Hopper Grace\n"
     ]
    }
   ],
   "source": [
    "print(third, fourth)"
   ]
  }
 ],
 "metadata": {
  "kernelspec": {
   "display_name": "Python 3 ",
   "language": "python",
   "name": "python3"
  },
  "language_info": {
   "codemirror_mode": {
    "name": "ipython",
    "version": 3
   },
   "file_extension": ".py",
   "mimetype": "text/x-python",
   "name": "python",
   "nbconvert_exporter": "python",
   "pygments_lexer": "ipython3",
   "version": "3.9.6"
  }
 },
 "nbformat": 4,
 "nbformat_minor": 5
}
