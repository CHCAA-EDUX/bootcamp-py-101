{
 "cells": [
  {
   "cell_type": "markdown",
   "id": "d97a02fd-ad16-4fee-8557-0c018ca6a12a",
   "metadata": {},
   "source": [
    "# Data Type Lists #\n",
    "\n",
    "Built-in data container-like type "
   ]
  },
  {
   "cell_type": "code",
   "execution_count": 1,
   "id": "a3044916-7c3c-41d0-93bb-ca93d1464ec8",
   "metadata": {
    "execution": {
     "iopub.execute_input": "2021-09-02T07:46:34.517167Z",
     "iopub.status.busy": "2021-09-02T07:46:34.516621Z",
     "iopub.status.idle": "2021-09-02T07:46:34.524144Z",
     "shell.execute_reply": "2021-09-02T07:46:34.522871Z",
     "shell.execute_reply.started": "2021-09-02T07:46:34.517112Z"
    },
    "tags": []
   },
   "outputs": [],
   "source": [
    "odds = [1, 3, 5, 7]"
   ]
  },
  {
   "cell_type": "code",
   "execution_count": 2,
   "id": "0ccbcf2a-5eda-439c-9502-3b3b49b3e54f",
   "metadata": {
    "execution": {
     "iopub.execute_input": "2021-09-02T07:46:51.528633Z",
     "iopub.status.busy": "2021-09-02T07:46:51.528137Z",
     "iopub.status.idle": "2021-09-02T07:46:51.536489Z",
     "shell.execute_reply": "2021-09-02T07:46:51.535304Z",
     "shell.execute_reply.started": "2021-09-02T07:46:51.528581Z"
    },
    "tags": []
   },
   "outputs": [
    {
     "name": "stdout",
     "output_type": "stream",
     "text": [
      "odds are:  [1, 3, 5, 7]\n"
     ]
    }
   ],
   "source": [
    "print('odds are: ', odds)"
   ]
  },
  {
   "cell_type": "code",
   "execution_count": 3,
   "id": "d55afc6b-3120-469f-afbe-6c82e1f115ef",
   "metadata": {
    "execution": {
     "iopub.execute_input": "2021-09-02T07:47:19.709855Z",
     "iopub.status.busy": "2021-09-02T07:47:19.709356Z",
     "iopub.status.idle": "2021-09-02T07:47:19.717719Z",
     "shell.execute_reply": "2021-09-02T07:47:19.716754Z",
     "shell.execute_reply.started": "2021-09-02T07:47:19.709803Z"
    },
    "tags": []
   },
   "outputs": [
    {
     "name": "stdout",
     "output_type": "stream",
     "text": [
      "first element 1\n"
     ]
    }
   ],
   "source": [
    "print('first element', odds[0])"
   ]
  },
  {
   "cell_type": "code",
   "execution_count": 5,
   "id": "304318f5-d11e-49df-b3a8-75cae98691d4",
   "metadata": {
    "execution": {
     "iopub.execute_input": "2021-09-02T07:48:09.746042Z",
     "iopub.status.busy": "2021-09-02T07:48:09.745507Z",
     "iopub.status.idle": "2021-09-02T07:48:09.754329Z",
     "shell.execute_reply": "2021-09-02T07:48:09.753093Z",
     "shell.execute_reply.started": "2021-09-02T07:48:09.745957Z"
    },
    "tags": []
   },
   "outputs": [
    {
     "name": "stdout",
     "output_type": "stream",
     "text": [
      "last element 7\n"
     ]
    }
   ],
   "source": [
    "print('last element', odds[-1])"
   ]
  },
  {
   "cell_type": "code",
   "execution_count": 7,
   "id": "c1eac4fe-f3d2-455e-8fcc-f9f0be3f76c0",
   "metadata": {
    "execution": {
     "iopub.execute_input": "2021-09-02T07:55:02.385829Z",
     "iopub.status.busy": "2021-09-02T07:55:02.385329Z",
     "iopub.status.idle": "2021-09-02T07:55:02.394380Z",
     "shell.execute_reply": "2021-09-02T07:55:02.393064Z",
     "shell.execute_reply.started": "2021-09-02T07:55:02.385776Z"
    },
    "tags": []
   },
   "outputs": [
    {
     "name": "stdout",
     "output_type": "stream",
     "text": [
      "names is originally:  ['Curie', 'Darwing', 'Turing']\n",
      "final names is:  ['Curie', 'Darwin', 'Turing']\n"
     ]
    }
   ],
   "source": [
    "names = ['Curie', 'Darwing', 'Turing']\n",
    "print('names is originally: ', names)\n",
    "names[1] = 'Darwin'\n",
    "print('final names is: ', names)"
   ]
  },
  {
   "cell_type": "code",
   "execution_count": 11,
   "id": "28848eac-fafd-4955-b0b4-b17093b2a635",
   "metadata": {
    "execution": {
     "iopub.execute_input": "2021-09-02T07:58:46.300401Z",
     "iopub.status.busy": "2021-09-02T07:58:46.299877Z",
     "iopub.status.idle": "2021-09-02T07:58:46.370952Z",
     "shell.execute_reply": "2021-09-02T07:58:46.370165Z",
     "shell.execute_reply.started": "2021-09-02T07:58:46.300348Z"
    },
    "tags": []
   },
   "outputs": [
    {
     "name": "stdout",
     "output_type": "stream",
     "text": [
      "Darwin\n",
      "the first letter in name is:  D\n"
     ]
    },
    {
     "ename": "TypeError",
     "evalue": "'str' object does not support item assignment",
     "output_type": "error",
     "traceback": [
      "\u001b[0;31m---------------------------------------------------------------------------\u001b[0m",
      "\u001b[0;31mTypeError\u001b[0m                                 Traceback (most recent call last)",
      "\u001b[0;32m/tmp/ipykernel_198/3831204673.py\u001b[0m in \u001b[0;36m<module>\u001b[0;34m\u001b[0m\n\u001b[1;32m      2\u001b[0m \u001b[0mprint\u001b[0m\u001b[0;34m(\u001b[0m\u001b[0mname\u001b[0m\u001b[0;34m)\u001b[0m\u001b[0;34m\u001b[0m\u001b[0;34m\u001b[0m\u001b[0m\n\u001b[1;32m      3\u001b[0m \u001b[0mprint\u001b[0m\u001b[0;34m(\u001b[0m\u001b[0;34m'the first letter in name is: '\u001b[0m\u001b[0;34m,\u001b[0m \u001b[0mname\u001b[0m\u001b[0;34m[\u001b[0m\u001b[0;36m0\u001b[0m\u001b[0;34m]\u001b[0m\u001b[0;34m)\u001b[0m\u001b[0;34m\u001b[0m\u001b[0;34m\u001b[0m\u001b[0m\n\u001b[0;32m----> 4\u001b[0;31m \u001b[0mname\u001b[0m\u001b[0;34m[\u001b[0m\u001b[0;36m0\u001b[0m\u001b[0;34m]\u001b[0m \u001b[0;34m=\u001b[0m \u001b[0;34m'd'\u001b[0m\u001b[0;34m\u001b[0m\u001b[0;34m\u001b[0m\u001b[0m\n\u001b[0m",
      "\u001b[0;31mTypeError\u001b[0m: 'str' object does not support item assignment"
     ]
    }
   ],
   "source": [
    "name = names[1]\n",
    "print(name)\n",
    "print('the first letter in name is: ', name[0])\n",
    "name[0] = 'd'"
   ]
  },
  {
   "cell_type": "code",
   "execution_count": 15,
   "id": "2ec27c99-82dd-4df0-bb3b-a7eed38d9ee8",
   "metadata": {
    "execution": {
     "iopub.execute_input": "2021-09-02T08:02:12.197626Z",
     "iopub.status.busy": "2021-09-02T08:02:12.197118Z",
     "iopub.status.idle": "2021-09-02T08:02:12.206360Z",
     "shell.execute_reply": "2021-09-02T08:02:12.204924Z",
     "shell.execute_reply.started": "2021-09-02T08:02:12.197573Z"
    },
    "tags": []
   },
   "outputs": [
    {
     "name": "stdout",
     "output_type": "stream",
     "text": [
      "darwin\n",
      "Darwin\n"
     ]
    }
   ],
   "source": [
    "name = 'darwin'# overwrite\n",
    "name = 'Darwin'\n",
    "print(name.lower())# casefolding\n",
    "print(name)"
   ]
  },
  {
   "cell_type": "code",
   "execution_count": 18,
   "id": "1e5e5a9c-7ed5-4aa3-aba5-543562ea2e55",
   "metadata": {
    "execution": {
     "iopub.execute_input": "2021-09-02T08:04:10.032003Z",
     "iopub.status.busy": "2021-09-02T08:04:10.031486Z",
     "iopub.status.idle": "2021-09-02T08:04:10.038594Z",
     "shell.execute_reply": "2021-09-02T08:04:10.037337Z",
     "shell.execute_reply.started": "2021-09-02T08:04:10.031937Z"
    },
    "tags": []
   },
   "outputs": [],
   "source": [
    "name = 'Darwin'\n",
    "#name = 'darwin'\n",
    "name_casefold = name.lower()"
   ]
  },
  {
   "cell_type": "code",
   "execution_count": 25,
   "id": "ffe719d0-6f2d-4e73-970e-232247db383d",
   "metadata": {
    "execution": {
     "iopub.execute_input": "2021-09-02T08:09:23.419173Z",
     "iopub.status.busy": "2021-09-02T08:09:23.418652Z",
     "iopub.status.idle": "2021-09-02T08:09:23.426897Z",
     "shell.execute_reply": "2021-09-02T08:09:23.425937Z",
     "shell.execute_reply.started": "2021-09-02T08:09:23.419118Z"
    },
    "tags": []
   },
   "outputs": [
    {
     "name": "stdout",
     "output_type": "stream",
     "text": [
      "What is in my salsa ['hot peppers', 'onions', 'cilantro', 'tomatoes']\n"
     ]
    }
   ],
   "source": [
    "salsa = ['peppers', 'onions', 'cilantro', 'tomatoes']\n",
    "my_salsa = salsa\n",
    "salsa[0] = 'hot peppers'\n",
    "print('What is in my salsa', my_salsa)"
   ]
  },
  {
   "cell_type": "markdown",
   "id": "d190d258-ed61-4c0f-ba74-43fc6b7a30d9",
   "metadata": {},
   "source": [
    "## Nested lists ##"
   ]
  },
  {
   "cell_type": "code",
   "execution_count": 26,
   "id": "e19e81ab-4938-4fec-b99b-30b99eb5bb9d",
   "metadata": {
    "execution": {
     "iopub.execute_input": "2021-09-02T08:13:06.955129Z",
     "iopub.status.busy": "2021-09-02T08:13:06.954615Z",
     "iopub.status.idle": "2021-09-02T08:13:06.961811Z",
     "shell.execute_reply": "2021-09-02T08:13:06.960825Z",
     "shell.execute_reply.started": "2021-09-02T08:13:06.955075Z"
    },
    "tags": []
   },
   "outputs": [],
   "source": [
    "fridge = [['pepper', 'squash', 'onion'], ['milk', 'eggs', 'cheese'], ['ham', 'sausage', 'bacon']]"
   ]
  },
  {
   "cell_type": "code",
   "execution_count": 34,
   "id": "988d5478-4a2d-4d28-b839-a652968e18b4",
   "metadata": {
    "execution": {
     "iopub.execute_input": "2021-09-02T08:16:55.390616Z",
     "iopub.status.busy": "2021-09-02T08:16:55.389958Z",
     "iopub.status.idle": "2021-09-02T08:16:55.400818Z",
     "shell.execute_reply": "2021-09-02T08:16:55.400056Z",
     "shell.execute_reply.started": "2021-09-02T08:16:55.390561Z"
    },
    "tags": []
   },
   "outputs": [
    {
     "name": "stdout",
     "output_type": "stream",
     "text": [
      "[['pepper', 'squash', 'onion'], ['milk', 'eggs', 'cheese'], ['ham', 'sausage', 'bacon']]\n",
      "['pepper', 'squash', 'onion']\n",
      "['ham', 'sausage', 'bacon']\n",
      "p\n",
      "['pepper', 'squash', 'onion', 'ham', 'sausage', 'bacon']\n",
      "get a \"p\":  p\n"
     ]
    }
   ],
   "source": [
    "print(fridge)\n",
    "print(fridge[0])\n",
    "print(fridge[-1])\n",
    "print(fridge[0][0][0])\n",
    "print(fridge[0] + fridge[-1])\n",
    "print('get a \"p\": ', fridge[0][0][0])"
   ]
  }
 ],
 "metadata": {
  "kernelspec": {
   "display_name": "Python 3 ",
   "language": "python",
   "name": "python3"
  },
  "language_info": {
   "codemirror_mode": {
    "name": "ipython",
    "version": 3
   },
   "file_extension": ".py",
   "mimetype": "text/x-python",
   "name": "python",
   "nbconvert_exporter": "python",
   "pygments_lexer": "ipython3",
   "version": "3.9.6"
  }
 },
 "nbformat": 4,
 "nbformat_minor": 5
}
