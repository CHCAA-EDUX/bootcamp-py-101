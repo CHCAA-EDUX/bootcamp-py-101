{
 "cells": [
  {
   "cell_type": "markdown",
   "id": "b1c9159c-9b3b-4718-bf66-677bce479648",
   "metadata": {},
   "source": [
    "# Making choices with conditionals #"
   ]
  },
  {
   "cell_type": "code",
   "execution_count": 1,
   "id": "9551a377-ab0b-4fce-82fd-177623bfd1d0",
   "metadata": {
    "execution": {
     "iopub.execute_input": "2021-09-02T13:11:18.210566Z",
     "iopub.status.busy": "2021-09-02T13:11:18.210077Z",
     "iopub.status.idle": "2021-09-02T13:11:18.219998Z",
     "shell.execute_reply": "2021-09-02T13:11:18.218728Z",
     "shell.execute_reply.started": "2021-09-02T13:11:18.210517Z"
    },
    "tags": []
   },
   "outputs": [
    {
     "name": "stdout",
     "output_type": "stream",
     "text": [
      "not greater\n",
      "done\n"
     ]
    }
   ],
   "source": [
    "num = 37\n",
    "test_num = 100 \n",
    "if num > test_num:\n",
    "    print('greater')\n",
    "else:\n",
    "    print('not greater')\n",
    "\n",
    "print('done')"
   ]
  },
  {
   "cell_type": "code",
   "execution_count": 2,
   "id": "133a5d86-e9bf-45d9-a288-8cbc14def2ef",
   "metadata": {
    "execution": {
     "iopub.execute_input": "2021-09-02T13:11:18.222417Z",
     "iopub.status.busy": "2021-09-02T13:11:18.222018Z",
     "iopub.status.idle": "2021-09-02T13:11:18.242620Z",
     "shell.execute_reply": "2021-09-02T13:11:18.241259Z",
     "shell.execute_reply.started": "2021-09-02T13:11:18.222382Z"
    },
    "tags": []
   },
   "outputs": [
    {
     "name": "stdout",
     "output_type": "stream",
     "text": [
      "3 is positive\n"
     ]
    }
   ],
   "source": [
    "num = 3\n",
    "\n",
    "if num >= 0:\n",
    "    print(num, 'is positive')\n",
    "#elif num == 0:\n",
    "#    print(num, 'is zero')\n",
    "else:\n",
    "    print(num, 'is negative')"
   ]
  },
  {
   "cell_type": "code",
   "execution_count": 3,
   "id": "12d40a49-1a32-4ee4-af22-6a4b1c16cf70",
   "metadata": {
    "execution": {
     "iopub.execute_input": "2021-09-02T13:11:18.244824Z",
     "iopub.status.busy": "2021-09-02T13:11:18.244400Z",
     "iopub.status.idle": "2021-09-02T13:11:18.271129Z",
     "shell.execute_reply": "2021-09-02T13:11:18.269641Z",
     "shell.execute_reply.started": "2021-09-02T13:11:18.244779Z"
    },
    "tags": []
   },
   "outputs": [
    {
     "data": {
      "text/plain": [
       "True"
      ]
     },
     "execution_count": 3,
     "metadata": {},
     "output_type": "execute_result"
    }
   ],
   "source": [
    "'leo' != 'virgo'"
   ]
  },
  {
   "cell_type": "markdown",
   "id": "a0b7dc15-4e94-4cd2-85ba-b1a5d227bea9",
   "metadata": {},
   "source": [
    "test conjunction"
   ]
  },
  {
   "cell_type": "code",
   "execution_count": 4,
   "id": "0b6b8c48-c676-4c9e-bd92-9021c6afc498",
   "metadata": {
    "execution": {
     "iopub.execute_input": "2021-09-02T13:11:18.274607Z",
     "iopub.status.busy": "2021-09-02T13:11:18.274055Z",
     "iopub.status.idle": "2021-09-02T13:11:18.302830Z",
     "shell.execute_reply": "2021-09-02T13:11:18.301286Z",
     "shell.execute_reply.started": "2021-09-02T13:11:18.274561Z"
    },
    "tags": []
   },
   "outputs": [
    {
     "name": "stdout",
     "output_type": "stream",
     "text": [
      "both are true\n"
     ]
    }
   ],
   "source": [
    "if (1 > 0) and (-1 <= 0):\n",
    "    print('both are true')\n",
    "else:\n",
    "    print('at least one is false')"
   ]
  },
  {
   "cell_type": "code",
   "execution_count": 5,
   "id": "3aede6e9-d5ad-46a9-887d-189ba70beab3",
   "metadata": {
    "execution": {
     "iopub.execute_input": "2021-09-02T13:11:18.305072Z",
     "iopub.status.busy": "2021-09-02T13:11:18.304635Z",
     "iopub.status.idle": "2021-09-02T13:11:18.337363Z",
     "shell.execute_reply": "2021-09-02T13:11:18.335999Z",
     "shell.execute_reply.started": "2021-09-02T13:11:18.305027Z"
    },
    "tags": []
   },
   "outputs": [
    {
     "name": "stdout",
     "output_type": "stream",
     "text": [
      "True\n"
     ]
    }
   ],
   "source": [
    "num = 3\n",
    "test = num < 1000\n",
    "print(test)"
   ]
  },
  {
   "cell_type": "markdown",
   "id": "3a1aaefa-4223-48b8-86df-c19a73126654",
   "metadata": {},
   "source": [
    "test disjunction"
   ]
  },
  {
   "cell_type": "code",
   "execution_count": 6,
   "id": "a9cb2978-b8b6-4c78-919f-a64a7824b97d",
   "metadata": {
    "execution": {
     "iopub.execute_input": "2021-09-02T13:11:18.339715Z",
     "iopub.status.busy": "2021-09-02T13:11:18.339172Z",
     "iopub.status.idle": "2021-09-02T13:11:18.373887Z",
     "shell.execute_reply": "2021-09-02T13:11:18.372332Z",
     "shell.execute_reply.started": "2021-09-02T13:11:18.339669Z"
    }
   },
   "outputs": [
    {
     "name": "stdout",
     "output_type": "stream",
     "text": [
      "at least one is true\n"
     ]
    }
   ],
   "source": [
    "if (1 < 0) or (1 >= 0):\n",
    "    print('at least one is true')"
   ]
  },
  {
   "cell_type": "markdown",
   "id": "45631d00-6cb3-42b8-b102-80722d492123",
   "metadata": {},
   "source": [
    "## Checking our Data ##"
   ]
  },
  {
   "cell_type": "code",
   "execution_count": 7,
   "id": "5ea61496-6156-4f11-9c4c-41d9ce3bbed5",
   "metadata": {
    "execution": {
     "iopub.execute_input": "2021-09-02T13:11:18.376145Z",
     "iopub.status.busy": "2021-09-02T13:11:18.375711Z",
     "iopub.status.idle": "2021-09-02T13:11:18.405177Z",
     "shell.execute_reply": "2021-09-02T13:11:18.403654Z",
     "shell.execute_reply.started": "2021-09-02T13:11:18.376100Z"
    },
    "tags": []
   },
   "outputs": [],
   "source": [
    "import numpy as np"
   ]
  },
  {
   "cell_type": "code",
   "execution_count": 8,
   "id": "3a98c350-5f5f-4fbf-b50b-8e9872fdd543",
   "metadata": {
    "execution": {
     "iopub.execute_input": "2021-09-02T13:11:18.407521Z",
     "iopub.status.busy": "2021-09-02T13:11:18.406951Z",
     "iopub.status.idle": "2021-09-02T13:11:18.436698Z",
     "shell.execute_reply": "2021-09-02T13:11:18.435152Z",
     "shell.execute_reply.started": "2021-09-02T13:11:18.407474Z"
    },
    "tags": []
   },
   "outputs": [],
   "source": [
    "data = np.loadtxt('../dat/series2d/inflammation-01.csv', delimiter=',')\n",
    "#print(data)"
   ]
  },
  {
   "cell_type": "code",
   "execution_count": 9,
   "id": "8ff458b6-5be9-489c-9d40-6f867eaaa8e5",
   "metadata": {
    "execution": {
     "iopub.execute_input": "2021-09-02T13:11:18.438449Z",
     "iopub.status.busy": "2021-09-02T13:11:18.438073Z",
     "iopub.status.idle": "2021-09-02T13:11:18.451626Z",
     "shell.execute_reply": "2021-09-02T13:11:18.450091Z",
     "shell.execute_reply.started": "2021-09-02T13:11:18.438423Z"
    },
    "tags": []
   },
   "outputs": [
    {
     "name": "stdout",
     "output_type": "stream",
     "text": [
      "not too good looking maxima...\n"
     ]
    }
   ],
   "source": [
    "max_inflammation_0 = np.max(data, axis=0)[0]\n",
    "max_inflammation_20 = np.max(data, axis=0)[20]\n",
    "\n",
    "if max_inflammation_0 == 0 and max_inflammation_20 == 20:\n",
    "    print('not too good looking maxima...')\n",
    "\n",
    "elif np.sum(np.min(data, axis = 0)) == 0:\n",
    "    print('not too good looking minima...')\n",
    "\n",
    "else:\n",
    "    print('you are good to go...')"
   ]
  },
  {
   "cell_type": "markdown",
   "id": "62513e27-c243-458e-a285-243aa3990155",
   "metadata": {},
   "source": [
    "## Making functions ##"
   ]
  },
  {
   "cell_type": "code",
   "execution_count": 10,
   "id": "b8456978-be9c-419c-94f2-49ebfe1c5372",
   "metadata": {
    "execution": {
     "iopub.execute_input": "2021-09-02T13:11:18.454561Z",
     "iopub.status.busy": "2021-09-02T13:11:18.454194Z",
     "iopub.status.idle": "2021-09-02T13:11:18.472696Z",
     "shell.execute_reply": "2021-09-02T13:11:18.471369Z",
     "shell.execute_reply.started": "2021-09-02T13:11:18.454536Z"
    },
    "tags": []
   },
   "outputs": [],
   "source": [
    "def detect_problems(filename):\n",
    "    \"\"\"\n",
    "    Detect problem related to suspicious maxima and minima\n",
    "        - input: str, filename of file to be analyzed\n",
    "        - file type: \n",
    "    \n",
    "    author: Mette F\n",
    "    \"\"\"\n",
    "    data = np.loadtxt(fname = filename, delimiter = ',')\n",
    "    if np.max(data, axis = 0)[0] == 0 and np.max(data, axis = 0)[20] == 20:\n",
    "        print('not too good looking maxima...')\n",
    "    elif np.sum(np.min(data, axis = 0)) == 0:\n",
    "        print('not too good looking minima...')\n",
    "    else:\n",
    "        print('you are good to go')"
   ]
  },
  {
   "cell_type": "code",
   "execution_count": 11,
   "id": "d0ab23c0-993b-459f-a2a6-b67f60a17345",
   "metadata": {
    "execution": {
     "iopub.execute_input": "2021-09-02T13:11:18.475090Z",
     "iopub.status.busy": "2021-09-02T13:11:18.474665Z",
     "iopub.status.idle": "2021-09-02T13:11:18.498945Z",
     "shell.execute_reply": "2021-09-02T13:11:18.497720Z",
     "shell.execute_reply.started": "2021-09-02T13:11:18.475047Z"
    },
    "tags": []
   },
   "outputs": [
    {
     "name": "stdout",
     "output_type": "stream",
     "text": [
      "not too good looking maxima...\n"
     ]
    }
   ],
   "source": [
    "filepath = '../dat/series2d/inflammation-01.csv'\n",
    "detect_problems(filepath)"
   ]
  },
  {
   "cell_type": "code",
   "execution_count": 12,
   "id": "984f72be-b3e6-4133-8ca4-c5e892f8e806",
   "metadata": {
    "execution": {
     "iopub.execute_input": "2021-09-02T13:11:18.500819Z",
     "iopub.status.busy": "2021-09-02T13:11:18.500504Z",
     "iopub.status.idle": "2021-09-02T13:11:18.518585Z",
     "shell.execute_reply": "2021-09-02T13:11:18.517070Z",
     "shell.execute_reply.started": "2021-09-02T13:11:18.500787Z"
    },
    "tags": []
   },
   "outputs": [],
   "source": [
    "import glob"
   ]
  },
  {
   "cell_type": "code",
   "execution_count": 13,
   "id": "835c800f-ffdc-429a-bf8f-841d80d47179",
   "metadata": {
    "execution": {
     "iopub.execute_input": "2021-09-02T13:11:18.520650Z",
     "iopub.status.busy": "2021-09-02T13:11:18.520252Z",
     "iopub.status.idle": "2021-09-02T13:11:18.579314Z",
     "shell.execute_reply": "2021-09-02T13:11:18.578302Z",
     "shell.execute_reply.started": "2021-09-02T13:11:18.520607Z"
    },
    "tags": []
   },
   "outputs": [
    {
     "name": "stdout",
     "output_type": "stream",
     "text": [
      "[INFO] for file:  inflammation-01.csv\n",
      "not too good looking maxima...\n",
      "[INFO] for file:  inflammation-02.csv\n",
      "not too good looking maxima...\n",
      "[INFO] for file:  inflammation-03.csv\n",
      "not too good looking minima...\n",
      "[INFO] for file:  inflammation-04.csv\n",
      "not too good looking maxima...\n",
      "[INFO] for file:  inflammation-05.csv\n",
      "not too good looking maxima...\n",
      "[INFO] for file:  inflammation-06.csv\n",
      "not too good looking maxima...\n",
      "[INFO] for file:  inflammation-07.csv\n",
      "not too good looking maxima...\n",
      "[INFO] for file:  inflammation-08.csv\n",
      "not too good looking minima...\n",
      "[INFO] for file:  inflammation-09.csv\n",
      "not too good looking maxima...\n",
      "[INFO] for file:  inflammation-10.csv\n",
      "not too good looking maxima...\n",
      "[INFO] for file:  inflammation-11.csv\n",
      "not too good looking minima...\n",
      "[INFO] for file:  inflammation-12.csv\n",
      "not too good looking maxima...\n"
     ]
    }
   ],
   "source": [
    "filenames = sorted(glob.glob('../dat/series2d/inflammation*.csv'))\n",
    "for filename in filenames:\n",
    "    print('[INFO] for file: ', filename.split('/')[-1])\n",
    "    detect_problems(filename)"
   ]
  },
  {
   "cell_type": "code",
   "execution_count": 14,
   "id": "427eaa11-1993-4238-a55c-cdeaef447e4a",
   "metadata": {
    "execution": {
     "iopub.execute_input": "2021-09-02T13:11:18.580895Z",
     "iopub.status.busy": "2021-09-02T13:11:18.580488Z",
     "iopub.status.idle": "2021-09-02T13:11:18.609339Z",
     "shell.execute_reply": "2021-09-02T13:11:18.608555Z",
     "shell.execute_reply.started": "2021-09-02T13:11:18.580868Z"
    },
    "tags": []
   },
   "outputs": [
    {
     "name": "stdout",
     "output_type": "stream",
     "text": [
      "not too good looking maxima...\n",
      "not too good looking maxima...\n",
      "not too good looking minima...\n",
      "not too good looking maxima...\n",
      "not too good looking maxima...\n",
      "not too good looking maxima...\n",
      "not too good looking maxima...\n",
      "not too good looking minima...\n",
      "not too good looking maxima...\n",
      "not too good looking maxima...\n",
      "not too good looking minima...\n",
      "not too good looking maxima...\n"
     ]
    }
   ],
   "source": [
    "from utility import detect_problems\n",
    "\n",
    "for filename in filenames:\n",
    "    detect_problems(filename)"
   ]
  }
 ],
 "metadata": {
  "kernelspec": {
   "display_name": "Python 3 ",
   "language": "python",
   "name": "python3"
  },
  "language_info": {
   "codemirror_mode": {
    "name": "ipython",
    "version": 3
   },
   "file_extension": ".py",
   "mimetype": "text/x-python",
   "name": "python",
   "nbconvert_exporter": "python",
   "pygments_lexer": "ipython3",
   "version": "3.9.6"
  }
 },
 "nbformat": 4,
 "nbformat_minor": 5
}
