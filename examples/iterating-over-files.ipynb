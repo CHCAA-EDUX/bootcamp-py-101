{
 "cells": [
  {
   "cell_type": "markdown",
   "id": "5c0fa09d-987d-4213-8759-ed5dc8b6baeb",
   "metadata": {},
   "source": [
    "# Repeating actions with LOOPS... #"
   ]
  },
  {
   "cell_type": "code",
   "execution_count": 2,
   "id": "c2082ce1-7d5e-484b-be12-c4cf41baa883",
   "metadata": {
    "execution": {
     "iopub.execute_input": "2021-09-02T08:46:52.285403Z",
     "iopub.status.busy": "2021-09-02T08:46:52.284876Z",
     "iopub.status.idle": "2021-09-02T08:46:52.301597Z",
     "shell.execute_reply": "2021-09-02T08:46:52.299870Z",
     "shell.execute_reply.started": "2021-09-02T08:46:52.285350Z"
    },
    "tags": []
   },
   "outputs": [
    {
     "name": "stdout",
     "output_type": "stream",
     "text": [
      "1\n",
      "3\n",
      "5\n"
     ]
    },
    {
     "ename": "IndexError",
     "evalue": "list index out of range",
     "output_type": "error",
     "traceback": [
      "\u001b[0;31m---------------------------------------------------------------------------\u001b[0m",
      "\u001b[0;31mIndexError\u001b[0m                                Traceback (most recent call last)",
      "\u001b[0;32m/tmp/ipykernel_333/4256697460.py\u001b[0m in \u001b[0;36m<module>\u001b[0;34m\u001b[0m\n\u001b[1;32m      3\u001b[0m \u001b[0mprint\u001b[0m\u001b[0;34m(\u001b[0m\u001b[0modds\u001b[0m\u001b[0;34m[\u001b[0m\u001b[0;36m1\u001b[0m\u001b[0;34m]\u001b[0m\u001b[0;34m)\u001b[0m\u001b[0;34m\u001b[0m\u001b[0;34m\u001b[0m\u001b[0m\n\u001b[1;32m      4\u001b[0m \u001b[0mprint\u001b[0m\u001b[0;34m(\u001b[0m\u001b[0modds\u001b[0m\u001b[0;34m[\u001b[0m\u001b[0;36m2\u001b[0m\u001b[0;34m]\u001b[0m\u001b[0;34m)\u001b[0m\u001b[0;34m\u001b[0m\u001b[0;34m\u001b[0m\u001b[0m\n\u001b[0;32m----> 5\u001b[0;31m \u001b[0mprint\u001b[0m\u001b[0;34m(\u001b[0m\u001b[0modds\u001b[0m\u001b[0;34m[\u001b[0m\u001b[0;36m3\u001b[0m\u001b[0;34m]\u001b[0m\u001b[0;34m)\u001b[0m\u001b[0;34m\u001b[0m\u001b[0;34m\u001b[0m\u001b[0m\n\u001b[0m",
      "\u001b[0;31mIndexError\u001b[0m: list index out of range"
     ]
    }
   ],
   "source": [
    "odds = [1, 3, 5]\n",
    "print(odds[0])\n",
    "print(odds[1])\n",
    "print(odds[2])\n",
    "print(odds[3])"
   ]
  },
  {
   "cell_type": "code",
   "execution_count": 15,
   "id": "d1856597-8ec6-4e80-b65c-0b8e948459ba",
   "metadata": {
    "execution": {
     "iopub.execute_input": "2021-09-02T08:54:47.206102Z",
     "iopub.status.busy": "2021-09-02T08:54:47.205515Z",
     "iopub.status.idle": "2021-09-02T08:54:47.219269Z",
     "shell.execute_reply": "2021-09-02T08:54:47.217705Z",
     "shell.execute_reply.started": "2021-09-02T08:54:47.206044Z"
    },
    "tags": []
   },
   "outputs": [
    {
     "name": "stdout",
     "output_type": "stream",
     "text": [
      "1\n",
      "3\n",
      "5\n",
      "7\n",
      "11\n",
      "13\n",
      "\n",
      "***********\n",
      "\n",
      "1\n",
      "3\n",
      "5\n",
      "7\n",
      "11\n",
      "13\n"
     ]
    }
   ],
   "source": [
    "odds = [1, 3, 5, 7, 11, 13]\n",
    "for num in odds:\n",
    "    print(num)\n",
    "\n",
    "print('\\n***********\\n')\n",
    "\n",
    "for metteF in odds:\n",
    "    print(metteF)"
   ]
  },
  {
   "cell_type": "code",
   "execution_count": 19,
   "id": "035421ee-7bbe-451e-ab67-554aa976abce",
   "metadata": {
    "execution": {
     "iopub.execute_input": "2021-09-02T08:58:41.594645Z",
     "iopub.status.busy": "2021-09-02T08:58:41.594092Z",
     "iopub.status.idle": "2021-09-02T08:58:41.607863Z",
     "shell.execute_reply": "2021-09-02T08:58:41.606494Z",
     "shell.execute_reply.started": "2021-09-02T08:58:41.594588Z"
    },
    "tags": []
   },
   "outputs": [
    {
     "name": "stdout",
     "output_type": "stream",
     "text": [
      "Curie\n",
      "C\n",
      "u\n",
      "r\n",
      "i\n",
      "e\n",
      "Darwin\n",
      "D\n",
      "a\n",
      "r\n",
      "w\n",
      "i\n",
      "n\n",
      "Turing\n",
      "T\n",
      "u\n",
      "r\n",
      "i\n",
      "n\n",
      "g\n"
     ]
    }
   ],
   "source": [
    "names = ['Curie', 'Darwin', 'Turing']\n",
    "for name in names:\n",
    "    print(name)\n",
    "    bfor char in name:\n",
    "        print(char)"
   ]
  },
  {
   "cell_type": "code",
   "execution_count": 35,
   "id": "33ec46a9-12e7-4aa1-849d-a1a50d6cb87c",
   "metadata": {
    "execution": {
     "iopub.execute_input": "2021-09-02T09:13:39.804964Z",
     "iopub.status.busy": "2021-09-02T09:13:39.804411Z",
     "iopub.status.idle": "2021-09-02T09:13:39.817103Z",
     "shell.execute_reply": "2021-09-02T09:13:39.815557Z",
     "shell.execute_reply.started": "2021-09-02T09:13:39.804908Z"
    },
    "tags": []
   },
   "outputs": [
    {
     "name": "stdout",
     "output_type": "stream",
     "text": [
      "D\n",
      "Hello Mette how goes!!!\n",
      "a\n",
      "Hello Mette how goes!!!\n",
      "r\n",
      "Hello Mette how goes!!!\n",
      "t\n",
      "Hello Mette how goes!!!\n",
      "h\n",
      "Hello Mette how goes!!!\n",
      "number of letter in Darth is  5\n"
     ]
    }
   ],
   "source": [
    "num_of_letters = 0\n",
    "name = 'Darth'\n",
    "for letter in name:\n",
    "    print(letter)\n",
    "    num_of_letters = num_of_letters + 1\n",
    "    #num_of_letters += 1\n",
    "    print('Hello Mette how goes!!!')\n",
    "\n",
    "print('number of letter in Darth is ', num_of_letters)"
   ]
  },
  {
   "cell_type": "code",
   "execution_count": null,
   "id": "d8cdc8b0-55b5-425b-b3e3-74ed97def11e",
   "metadata": {},
   "outputs": [],
   "source": []
  }
 ],
 "metadata": {
  "kernelspec": {
   "display_name": "Python 3 ",
   "language": "python",
   "name": "python3"
  },
  "language_info": {
   "codemirror_mode": {
    "name": "ipython",
    "version": 3
   },
   "file_extension": ".py",
   "mimetype": "text/x-python",
   "name": "python",
   "nbconvert_exporter": "python",
   "pygments_lexer": "ipython3",
   "version": "3.9.6"
  }
 },
 "nbformat": 4,
 "nbformat_minor": 5
}
