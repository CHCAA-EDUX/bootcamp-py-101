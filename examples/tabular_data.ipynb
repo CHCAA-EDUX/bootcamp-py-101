{
 "cells": [
  {
   "cell_type": "markdown",
   "id": "ec296ac7-df03-433d-9275-e9630351f483",
   "metadata": {},
   "source": [
    "# Tabular data #"
   ]
  },
  {
   "cell_type": "code",
   "execution_count": 1,
   "id": "b526512a-fa26-4993-9b75-2e5e3efefb5a",
   "metadata": {
    "execution": {
     "iopub.execute_input": "2021-09-01T12:47:50.321105Z",
     "iopub.status.busy": "2021-09-01T12:47:50.320718Z",
     "iopub.status.idle": "2021-09-01T12:47:50.324479Z",
     "shell.execute_reply": "2021-09-01T12:47:50.323916Z",
     "shell.execute_reply.started": "2021-09-01T12:47:50.321083Z"
    },
    "tags": []
   },
   "outputs": [],
   "source": [
    "import numpy as np"
   ]
  },
  {
   "cell_type": "code",
   "execution_count": 2,
   "id": "c0ced4d5-f8a6-4626-9249-0a3de9a547c4",
   "metadata": {
    "execution": {
     "iopub.execute_input": "2021-09-01T12:47:50.325544Z",
     "iopub.status.busy": "2021-09-01T12:47:50.325377Z",
     "iopub.status.idle": "2021-09-01T12:47:50.368717Z",
     "shell.execute_reply": "2021-09-01T12:47:50.367689Z",
     "shell.execute_reply.started": "2021-09-01T12:47:50.325525Z"
    },
    "tags": []
   },
   "outputs": [],
   "source": [
    "filename = '../dat/series2d/inflammation-01.csv'\n",
    "data = np.loadtxt(fname = filename, delimiter = ',')"
   ]
  },
  {
   "cell_type": "code",
   "execution_count": 3,
   "id": "23f05275-e3f3-4a4e-9e2e-cc8890149cd8",
   "metadata": {
    "execution": {
     "iopub.execute_input": "2021-09-01T12:47:50.370588Z",
     "iopub.status.busy": "2021-09-01T12:47:50.370183Z",
     "iopub.status.idle": "2021-09-01T12:47:50.389092Z",
     "shell.execute_reply": "2021-09-01T12:47:50.388067Z",
     "shell.execute_reply.started": "2021-09-01T12:47:50.370550Z"
    },
    "tags": []
   },
   "outputs": [
    {
     "name": "stdout",
     "output_type": "stream",
     "text": [
      "[[0. 0. 1. ... 3. 0. 0.]\n",
      " [0. 1. 2. ... 1. 0. 1.]\n",
      " [0. 1. 1. ... 2. 1. 1.]\n",
      " ...\n",
      " [0. 1. 1. ... 1. 1. 1.]\n",
      " [0. 0. 0. ... 0. 2. 0.]\n",
      " [0. 0. 1. ... 1. 1. 0.]]\n"
     ]
    }
   ],
   "source": [
    "print(data)"
   ]
  },
  {
   "cell_type": "code",
   "execution_count": 4,
   "id": "f4575a3b-0c3e-49d3-9e92-9ff12df295bf",
   "metadata": {
    "execution": {
     "iopub.execute_input": "2021-09-01T12:47:50.391046Z",
     "iopub.status.busy": "2021-09-01T12:47:50.390561Z",
     "iopub.status.idle": "2021-09-01T12:47:50.415735Z",
     "shell.execute_reply": "2021-09-01T12:47:50.414601Z",
     "shell.execute_reply.started": "2021-09-01T12:47:50.391008Z"
    },
    "tags": []
   },
   "outputs": [
    {
     "name": "stdout",
     "output_type": "stream",
     "text": [
      "<class 'numpy.ndarray'>\n",
      "float64\n"
     ]
    }
   ],
   "source": [
    "print(type(data))\n",
    "print(data.dtype)"
   ]
  },
  {
   "cell_type": "code",
   "execution_count": 5,
   "id": "0ab37a7e-edd1-4cda-a1f6-c498790ed6a7",
   "metadata": {
    "execution": {
     "iopub.execute_input": "2021-09-01T12:47:50.418362Z",
     "iopub.status.busy": "2021-09-01T12:47:50.417615Z",
     "iopub.status.idle": "2021-09-01T12:47:50.443933Z",
     "shell.execute_reply": "2021-09-01T12:47:50.443230Z",
     "shell.execute_reply.started": "2021-09-01T12:47:50.418307Z"
    },
    "tags": []
   },
   "outputs": [
    {
     "name": "stdout",
     "output_type": "stream",
     "text": [
      "(60, 40)\n"
     ]
    }
   ],
   "source": [
    "print(data.shape)"
   ]
  },
  {
   "cell_type": "markdown",
   "id": "d64c5d93-edc4-4ebb-a382-c21e75b7ec01",
   "metadata": {},
   "source": [
    "## Indexing and slicing numpy arrays ##"
   ]
  },
  {
   "cell_type": "code",
   "execution_count": 6,
   "id": "4e64ea07-47c8-4d17-a6f3-bb365b099581",
   "metadata": {
    "execution": {
     "iopub.execute_input": "2021-09-01T12:47:50.446529Z",
     "iopub.status.busy": "2021-09-01T12:47:50.446160Z",
     "iopub.status.idle": "2021-09-01T12:47:50.464698Z",
     "shell.execute_reply": "2021-09-01T12:47:50.463723Z",
     "shell.execute_reply.started": "2021-09-01T12:47:50.446499Z"
    },
    "tags": []
   },
   "outputs": [
    {
     "name": "stdout",
     "output_type": "stream",
     "text": [
      "[[0. 0. 1. ... 3. 0. 0.]\n",
      " [0. 1. 2. ... 1. 0. 1.]\n",
      " [0. 1. 1. ... 2. 1. 1.]\n",
      " ...\n",
      " [0. 1. 1. ... 1. 1. 1.]\n",
      " [0. 0. 0. ... 0. 2. 0.]\n",
      " [0. 0. 1. ... 1. 1. 0.]]\n"
     ]
    }
   ],
   "source": [
    "print(data)"
   ]
  },
  {
   "cell_type": "markdown",
   "id": "0e106873-2520-43a8-9ba2-5cb991d045e2",
   "metadata": {},
   "source": [
    "### indexing ###"
   ]
  },
  {
   "cell_type": "code",
   "execution_count": 7,
   "id": "f948dbb0-ddaf-471a-a766-ccaa152ea9df",
   "metadata": {
    "execution": {
     "iopub.execute_input": "2021-09-01T12:47:50.466739Z",
     "iopub.status.busy": "2021-09-01T12:47:50.466183Z",
     "iopub.status.idle": "2021-09-01T12:47:50.478492Z",
     "shell.execute_reply": "2021-09-01T12:47:50.477303Z",
     "shell.execute_reply.started": "2021-09-01T12:47:50.466698Z"
    },
    "tags": []
   },
   "outputs": [
    {
     "name": "stdout",
     "output_type": "stream",
     "text": [
      "first day inflammation rate for the first patient is  0.0\n"
     ]
    }
   ],
   "source": [
    "print('first day inflammation rate for the first patient is ', data[0, 0])"
   ]
  },
  {
   "cell_type": "code",
   "execution_count": 8,
   "id": "f8a8b775-097a-4e15-9335-e654fc3e4bea",
   "metadata": {
    "execution": {
     "iopub.execute_input": "2021-09-01T12:47:50.480386Z",
     "iopub.status.busy": "2021-09-01T12:47:50.479911Z",
     "iopub.status.idle": "2021-09-01T12:47:50.511375Z",
     "shell.execute_reply": "2021-09-01T12:47:50.510235Z",
     "shell.execute_reply.started": "2021-09-01T12:47:50.480349Z"
    },
    "tags": []
   },
   "outputs": [
    {
     "name": "stdout",
     "output_type": "stream",
     "text": [
      "second day and so on is for first patient is  0.0\n"
     ]
    }
   ],
   "source": [
    "print('second day and so on is for first patient is ', data[0, 1])"
   ]
  },
  {
   "cell_type": "markdown",
   "id": "e4ebac49-143f-4753-b742-e0a708ad2413",
   "metadata": {},
   "source": [
    "### slicing ###"
   ]
  },
  {
   "cell_type": "code",
   "execution_count": 9,
   "id": "6aba93d0-98eb-4f16-9feb-26387b0051ff",
   "metadata": {
    "execution": {
     "iopub.execute_input": "2021-09-01T12:47:50.513656Z",
     "iopub.status.busy": "2021-09-01T12:47:50.513141Z",
     "iopub.status.idle": "2021-09-01T12:47:50.547583Z",
     "shell.execute_reply": "2021-09-01T12:47:50.546376Z",
     "shell.execute_reply.started": "2021-09-01T12:47:50.513607Z"
    },
    "tags": []
   },
   "outputs": [
    {
     "name": "stdout",
     "output_type": "stream",
     "text": [
      "[[0. 0. 1. 3. 1.]\n",
      " [0. 1. 2. 1. 2.]]\n"
     ]
    }
   ],
   "source": [
    "print(data[0:2, 0:5])"
   ]
  },
  {
   "cell_type": "markdown",
   "id": "6a498c18-cf7e-4abc-aa15-6ae959a7a106",
   "metadata": {},
   "source": [
    "## Analyzing data ##"
   ]
  },
  {
   "cell_type": "code",
   "execution_count": 10,
   "id": "5bcd3bf1-0cdd-46e5-ba1a-f0e09b64314d",
   "metadata": {
    "execution": {
     "iopub.execute_input": "2021-09-01T12:47:50.550032Z",
     "iopub.status.busy": "2021-09-01T12:47:50.549442Z",
     "iopub.status.idle": "2021-09-01T12:47:50.574736Z",
     "shell.execute_reply": "2021-09-01T12:47:50.573090Z",
     "shell.execute_reply.started": "2021-09-01T12:47:50.549981Z"
    },
    "tags": []
   },
   "outputs": [
    {
     "name": "stdout",
     "output_type": "stream",
     "text": [
      "6.14875\n"
     ]
    }
   ],
   "source": [
    "print(np.mean(data))"
   ]
  },
  {
   "cell_type": "markdown",
   "id": "ce9e81d4-b403-4ec9-9028-680d5ddec850",
   "metadata": {},
   "source": [
    "Average inflation rate for patient 1"
   ]
  },
  {
   "cell_type": "code",
   "execution_count": 11,
   "id": "3a762335-99e4-475b-b092-7bee6525b53a",
   "metadata": {
    "execution": {
     "iopub.execute_input": "2021-09-01T12:47:50.577201Z",
     "iopub.status.busy": "2021-09-01T12:47:50.576733Z",
     "iopub.status.idle": "2021-09-01T12:47:50.623053Z",
     "shell.execute_reply": "2021-09-01T12:47:50.622038Z",
     "shell.execute_reply.started": "2021-09-01T12:47:50.577154Z"
    },
    "tags": []
   },
   "outputs": [
    {
     "name": "stdout",
     "output_type": "stream",
     "text": [
      "0.45\n"
     ]
    }
   ],
   "source": [
    "print(np.mean(data[:,1]))"
   ]
  },
  {
   "cell_type": "code",
   "execution_count": 12,
   "id": "952df0e9-60bc-4d14-8b81-366b33c9c89d",
   "metadata": {
    "execution": {
     "iopub.execute_input": "2021-09-01T12:47:50.625445Z",
     "iopub.status.busy": "2021-09-01T12:47:50.624965Z",
     "iopub.status.idle": "2021-09-01T12:47:50.646112Z",
     "shell.execute_reply": "2021-09-01T12:47:50.645011Z",
     "shell.execute_reply.started": "2021-09-01T12:47:50.625399Z"
    },
    "tags": []
   },
   "outputs": [
    {
     "name": "stdout",
     "output_type": "stream",
     "text": [
      "5.45\n"
     ]
    }
   ],
   "source": [
    "print(np.mean(data[0,:]))"
   ]
  },
  {
   "cell_type": "markdown",
   "id": "e9b2e862-d2b4-4a30-9c6b-04eef1ceba54",
   "metadata": {},
   "source": [
    "### Not all function require input ###\n",
    "\n",
    "let's look at the function ctime() bla bla bla"
   ]
  },
  {
   "cell_type": "code",
   "execution_count": 13,
   "id": "a08ac0c8-8676-4d59-a740-74ab09557d47",
   "metadata": {
    "execution": {
     "iopub.execute_input": "2021-09-01T12:49:19.185037Z",
     "iopub.status.busy": "2021-09-01T12:49:19.184526Z",
     "iopub.status.idle": "2021-09-01T12:49:19.190538Z",
     "shell.execute_reply": "2021-09-01T12:49:19.189378Z",
     "shell.execute_reply.started": "2021-09-01T12:49:19.185001Z"
    },
    "tags": []
   },
   "outputs": [],
   "source": [
    "import time"
   ]
  },
  {
   "cell_type": "code",
   "execution_count": 15,
   "id": "919bb556-5b67-4ae2-8d6e-647eafd2060e",
   "metadata": {
    "execution": {
     "iopub.execute_input": "2021-09-01T12:51:26.375571Z",
     "iopub.status.busy": "2021-09-01T12:51:26.375026Z",
     "iopub.status.idle": "2021-09-01T12:51:26.383249Z",
     "shell.execute_reply": "2021-09-01T12:51:26.382142Z",
     "shell.execute_reply.started": "2021-09-01T12:51:26.375517Z"
    },
    "tags": []
   },
   "outputs": [
    {
     "name": "stdout",
     "output_type": "stream",
     "text": [
      "Wed Sep  1 14:51:26 2021\n"
     ]
    }
   ],
   "source": [
    "print(time.ctime())"
   ]
  },
  {
   "cell_type": "markdown",
   "id": "4ea99a11-682d-4c14-bcb7-368a8b49abe2",
   "metadata": {},
   "source": [
    "### Back to analysis ###"
   ]
  },
  {
   "cell_type": "code",
   "execution_count": 16,
   "id": "c412e39c-cdff-4e48-8735-688f6450e68b",
   "metadata": {
    "execution": {
     "iopub.execute_input": "2021-09-01T12:55:18.292940Z",
     "iopub.status.busy": "2021-09-01T12:55:18.292428Z",
     "iopub.status.idle": "2021-09-01T12:55:18.300309Z",
     "shell.execute_reply": "2021-09-01T12:55:18.299409Z",
     "shell.execute_reply.started": "2021-09-01T12:55:18.292891Z"
    },
    "tags": []
   },
   "outputs": [],
   "source": [
    "maxval, minval, stdval = np.max(data), np.min(data), np.std(data)"
   ]
  },
  {
   "cell_type": "code",
   "execution_count": 20,
   "id": "4a4d54c0-a792-49be-a21a-9bdaed442970",
   "metadata": {
    "execution": {
     "iopub.execute_input": "2021-09-01T12:57:25.760687Z",
     "iopub.status.busy": "2021-09-01T12:57:25.760271Z",
     "iopub.status.idle": "2021-09-01T12:57:25.766565Z",
     "shell.execute_reply": "2021-09-01T12:57:25.765863Z",
     "shell.execute_reply.started": "2021-09-01T12:57:25.760658Z"
    },
    "tags": []
   },
   "outputs": [
    {
     "name": "stdout",
     "output_type": "stream",
     "text": [
      "[INFO] maximum inflammation:  20.0\n",
      "[INFO] minimum inflammation:  0.0\n",
      "[INFO] standard deviation:  4.613833197118566\n"
     ]
    }
   ],
   "source": [
    "print('[INFO] maximum inflammation: ', maxval)\n",
    "print('[INFO] minimum inflammation: ', minval)\n",
    "print('[INFO] standard deviation: ', stdval)"
   ]
  },
  {
   "cell_type": "markdown",
   "id": "27dc8bfc-318b-4519-8144-70d776b5ecab",
   "metadata": {},
   "source": [
    "average rate pr. day"
   ]
  },
  {
   "cell_type": "code",
   "execution_count": 32,
   "id": "6b2afdf3-3359-4242-b084-b4b471bd2459",
   "metadata": {
    "execution": {
     "iopub.execute_input": "2021-09-01T13:22:01.964862Z",
     "iopub.status.busy": "2021-09-01T13:22:01.964363Z",
     "iopub.status.idle": "2021-09-01T13:22:01.973083Z",
     "shell.execute_reply": "2021-09-01T13:22:01.971956Z",
     "shell.execute_reply.started": "2021-09-01T13:22:01.964813Z"
    },
    "tags": []
   },
   "outputs": [
    {
     "name": "stdout",
     "output_type": "stream",
     "text": [
      "[ 0.          0.45        1.11666667  1.75        2.43333333  3.15\n",
      "  3.8         3.88333333  5.23333333  5.51666667  5.95        5.9\n",
      "  8.35        7.73333333  8.36666667  9.5         9.58333333 10.63333333\n",
      " 11.56666667 12.35       13.25       11.96666667 11.03333333 10.16666667\n",
      " 10.          8.66666667  9.15        7.25        7.33333333  6.58333333\n",
      "  6.06666667  5.95        5.11666667  3.6         3.3         3.56666667\n",
      "  2.48333333  1.5         1.13333333  0.56666667]\n"
     ]
    }
   ],
   "source": [
    "print(np.mean(data, axis= 0))"
   ]
  },
  {
   "cell_type": "markdown",
   "id": "848586da-be46-4ec2-8b65-832e632b2014",
   "metadata": {},
   "source": [
    "average rate pr. patient"
   ]
  },
  {
   "cell_type": "code",
   "execution_count": 31,
   "id": "543885a2-e9ec-4137-b079-8163239c88ee",
   "metadata": {
    "execution": {
     "iopub.execute_input": "2021-09-01T13:21:57.718729Z",
     "iopub.status.busy": "2021-09-01T13:21:57.718255Z",
     "iopub.status.idle": "2021-09-01T13:21:57.726546Z",
     "shell.execute_reply": "2021-09-01T13:21:57.725727Z",
     "shell.execute_reply.started": "2021-09-01T13:21:57.718681Z"
    },
    "tags": []
   },
   "outputs": [
    {
     "name": "stdout",
     "output_type": "stream",
     "text": [
      "[5.45  5.425 6.1   5.9   5.55  6.225 5.975 6.65  6.625 6.525 6.775 5.8\n",
      " 6.225 5.75  5.225 6.3   6.55  5.7   5.85  6.55  5.775 5.825 6.175 6.1\n",
      " 5.8   6.425 6.05  6.025 6.175 6.55  6.175 6.35  6.725 6.125 7.075 5.725\n",
      " 5.925 6.15  6.075 5.75  5.975 5.725 6.3   5.9   6.75  5.925 7.225 6.15\n",
      " 5.95  6.275 5.7   6.1   6.825 5.975 6.725 5.7   6.25  6.4   7.05  5.9  ]\n"
     ]
    }
   ],
   "source": [
    "print(np.mean(data, axis = 1))"
   ]
  },
  {
   "cell_type": "markdown",
   "id": "02fd0fd9-8318-4c1b-af8b-4e98ea189cc7",
   "metadata": {},
   "source": [
    "## Visual inspection of data ##"
   ]
  },
  {
   "cell_type": "code",
   "execution_count": 33,
   "id": "f70df4db-20a7-43a9-8199-299f0608014b",
   "metadata": {
    "execution": {
     "iopub.execute_input": "2021-09-01T13:25:18.362053Z",
     "iopub.status.busy": "2021-09-01T13:25:18.361435Z",
     "iopub.status.idle": "2021-09-01T13:25:18.547371Z",
     "shell.execute_reply": "2021-09-01T13:25:18.546692Z",
     "shell.execute_reply.started": "2021-09-01T13:25:18.362003Z"
    },
    "tags": []
   },
   "outputs": [],
   "source": [
    "import matplotlib.pyplot as plt"
   ]
  },
  {
   "cell_type": "code",
   "execution_count": 34,
   "id": "495161bf-886b-46f0-8d9f-57500cc63098",
   "metadata": {
    "execution": {
     "iopub.execute_input": "2021-09-01T13:26:03.065819Z",
     "iopub.status.busy": "2021-09-01T13:26:03.065330Z",
     "iopub.status.idle": "2021-09-01T13:26:03.163530Z",
     "shell.execute_reply": "2021-09-01T13:26:03.162978Z",
     "shell.execute_reply.started": "2021-09-01T13:26:03.065757Z"
    },
    "tags": []
   },
   "outputs": [
    {
     "data": {
      "image/png": "[encoded data removed]",
      "text/plain": [
       "<Figure size 432x288 with 1 Axes>"
      ]
     },
     "metadata": {
      "needs_background": "light"
     },
     "output_type": "display_data"
    }
   ],
   "source": [
    "image = plt.imshow(data)"
   ]
  },
  {
   "cell_type": "code",
   "execution_count": 35,
   "id": "4ebf9fae-4c95-43be-b06a-388ff56a0ad9",
   "metadata": {
    "execution": {
     "iopub.execute_input": "2021-09-01T13:31:10.013690Z",
     "iopub.status.busy": "2021-09-01T13:31:10.013208Z",
     "iopub.status.idle": "2021-09-01T13:31:10.112060Z",
     "shell.execute_reply": "2021-09-01T13:31:10.111491Z",
     "shell.execute_reply.started": "2021-09-01T13:31:10.013643Z"
    },
    "tags": []
   },
   "outputs": [
    {
     "data": {
      "image/png": "[encoded data removed]",
      "text/plain": [
       "<Figure size 432x288 with 1 Axes>"
      ]
     },
     "metadata": {
      "needs_background": "light"
     },
     "output_type": "display_data"
    }
   ],
   "source": [
    "avg_inflammation = np.mean(data, axis = 0)\n",
    "avg_plot = plt.plot(avg_inflammation)"
   ]
  },
  {
   "cell_type": "code",
   "execution_count": 36,
   "id": "6f5b07fc-da77-45b7-a093-1307b69592e6",
   "metadata": {
    "execution": {
     "iopub.execute_input": "2021-09-01T13:33:01.208864Z",
     "iopub.status.busy": "2021-09-01T13:33:01.208356Z",
     "iopub.status.idle": "2021-09-01T13:33:01.315397Z",
     "shell.execute_reply": "2021-09-01T13:33:01.314830Z",
     "shell.execute_reply.started": "2021-09-01T13:33:01.208815Z"
    },
    "tags": []
   },
   "outputs": [
    {
     "data": {
      "image/png": "[encoded data removed]",
      "text/plain": [
       "<Figure size 432x288 with 1 Axes>"
      ]
     },
     "metadata": {
      "needs_background": "light"
     },
     "output_type": "display_data"
    }
   ],
   "source": [
    "max_inflammation = np.max(data, axis = 0)\n",
    "max_plot = plt.plot(max_inflammation)"
   ]
  },
  {
   "cell_type": "code",
   "execution_count": 37,
   "id": "1251bd2e-9096-4b86-9d03-8a55b7ee5fca",
   "metadata": {
    "execution": {
     "iopub.execute_input": "2021-09-01T13:36:40.641131Z",
     "iopub.status.busy": "2021-09-01T13:36:40.640622Z",
     "iopub.status.idle": "2021-09-01T13:36:40.741845Z",
     "shell.execute_reply": "2021-09-01T13:36:40.741230Z",
     "shell.execute_reply.started": "2021-09-01T13:36:40.641083Z"
    },
    "tags": []
   },
   "outputs": [
    {
     "data": {
      "image/png": "[encoded data removed]",
      "text/plain": [
       "<Figure size 432x288 with 1 Axes>"
      ]
     },
     "metadata": {
      "needs_background": "light"
     },
     "output_type": "display_data"
    }
   ],
   "source": [
    "min_inflammation = np.min(data, axis = 0)\n",
    "min_plot = plt.plot(min_inflammation)"
   ]
  },
  {
   "cell_type": "code",
   "execution_count": 49,
   "id": "a221e638-35cb-4be1-884e-372197426262",
   "metadata": {
    "execution": {
     "iopub.execute_input": "2021-09-01T13:50:07.206165Z",
     "iopub.status.busy": "2021-09-01T13:50:07.205685Z",
     "iopub.status.idle": "2021-09-01T13:50:07.512535Z",
     "shell.execute_reply": "2021-09-01T13:50:07.511790Z",
     "shell.execute_reply.started": "2021-09-01T13:50:07.206119Z"
    },
    "tags": []
   },
   "outputs": [
    {
     "data": {
      "image/png": "[encoded data removed]",
      "text/plain": [
       "<Figure size 720x216 with 3 Axes>"
      ]
     },
     "metadata": {
      "needs_background": "light"
     },
     "output_type": "display_data"
    }
   ],
   "source": [
    "filename = '../dat/series2d/inflammation-01.csv'\n",
    "data = np.loadtxt(fname = filename, delimiter = ',')\n",
    "\n",
    "fig = plt.figure(figsize = (10.0, 3.0))\n",
    "\n",
    "axes1 = fig.add_subplot(1, 3, 1)\n",
    "axes2 = fig.add_subplot(1, 3, 2)\n",
    "axes3 = fig.add_subplot(1, 3, 3)\n",
    "\n",
    "axes1.set_ylabel('Average')\n",
    "axes2.set_ylabel('Maximum')\n",
    "axes3.set_ylabel('Minimum')\n",
    "\n",
    "axes1.plot(np.mean(data, axis = 0))\n",
    "axes2.plot(np.max(data, axis = 0))\n",
    "axes3.plot(np.min(data, axis = 0))\n",
    "\n",
    "fig.tight_layout()\n",
    "\n",
    "plt.savefig('../figures/inflammation.png')"
   ]
  }
 ],
 "metadata": {
  "kernelspec": {
   "display_name": "Python 3 ",
   "language": "python",
   "name": "python3"
  },
  "language_info": {
   "codemirror_mode": {
    "name": "ipython",
    "version": 3
   },
   "file_extension": ".py",
   "mimetype": "text/x-python",
   "name": "python",
   "nbconvert_exporter": "python",
   "pygments_lexer": "ipython3",
   "version": "3.9.6"
  }
 },
 "nbformat": 4,
 "nbformat_minor": 5
}
